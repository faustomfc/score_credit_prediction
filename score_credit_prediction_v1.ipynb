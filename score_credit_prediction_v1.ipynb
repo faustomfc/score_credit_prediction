{
 "cells": [
  {
   "cell_type": "markdown",
   "id": "50b16937-99b2-4f25-99ba-55e30610f4b6",
   "metadata": {
    "execution": {
     "iopub.execute_input": "2023-09-14T03:06:07.404448Z",
     "iopub.status.busy": "2023-09-14T03:06:07.404448Z",
     "iopub.status.idle": "2023-09-14T03:06:07.410980Z",
     "shell.execute_reply": "2023-09-14T03:06:07.410980Z",
     "shell.execute_reply.started": "2023-09-14T03:06:07.404448Z"
    },
    "tags": []
   },
   "source": [
    "# MODELAGEM DE SCORE DE CRÉDITO: PREVISÃO DE INADIMPLÊNCIA"
   ]
  },
  {
   "cell_type": "markdown",
   "id": "20fb64c2-67b2-4871-9774-d080953a726c",
   "metadata": {},
   "source": [
    "## Objetivo"
   ]
  },
  {
   "cell_type": "markdown",
   "id": "6788bb7a-f705-4709-8438-e97172a7afe5",
   "metadata": {},
   "source": [
    "O presente projeto visa prever a probabilidade de um cliente recorrente ser inadimplente em um novo pedido de crédito."
   ]
  },
  {
   "cell_type": "markdown",
   "id": "5ad57f0f-943b-40aa-8cf5-2e64ff87be78",
   "metadata": {},
   "source": [
    "## Descrição do problema"
   ]
  },
  {
   "cell_type": "markdown",
   "id": "47ae567b-b2a6-4d54-8e80-00d363a82d2f",
   "metadata": {},
   "source": [
    "A empresa **Digibank**, cliente de longa data da **Datarisk**, tem tido sérios problemas com inadimplência na disponibilização de crédito aos seus clientes. A fim de evitar perdas significativas nesse serviço, a Digibank solicitou ao time Datarisk o desenvolvimento de um modelo preditivo capaz calcular a probabilidade de um cliente ser inadimplente em um novo pedido de crédito.\n",
    "\n",
    "Para a resolução do problema foram disponibilizadas **3 bases de dados**, sendo elas:\n",
    "1. **Base Cadastral:** contém informações estáticas dos clientes. Possui 8 features.<br>\n",
    "\n",
    "| Variável | Descrição |\n",
    "| :---: | :---: |\n",
    "| ID_CLIENTE | Identificador único do cliente |\n",
    "| DATA_CADASTRO | Data da realização do cadastro no sistema |\n",
    "| DDD | Número do DDD do telefone do cliente |\n",
    "| FLAG_PF | Indica se o cliente é uma pessoa física (‘X’) ou jurídica (‘NaN’) |\n",
    "| SEGMENTO_INDUSTRIAL | Indica a qual segmento da indústria pertence o cliente |\n",
    "| DOMINIO_EMAIL | Indica o domínio(ou provedor) do email utilizado para o cadastro |\n",
    "| PORTE | Indica o porte (tamanho) da empresa |\n",
    "| CEP_2_DIG | Indica os dois primeiros números do CEP do endereço cadastrado |\n",
    "\n",
    "2. **Base Info:** contém informações adicionais dos clientes. Os dados variam mensalmente para cada cliente.\n",
    "\n",
    "| Variável | Descrição |\n",
    "| :---: | :---: |\n",
    "| ID_CLIENTE | Identificador único do cliente |\n",
    "| SAFRA_REF | Mês de referência da amostra |\n",
    "| RENDA_MES_ANTERIOR | Renda ou faturamento declarado pelo cliente no fim do mês anterior |\n",
    "| NO_FUNCIONARIOS | Número de funcionários reportado pelo cliente no fim do mês anterior |\n",
    "\n",
    "3. **Base Pagamentos:** possui todas as transações passadas de empréstimos dos clientes.\n",
    "\n",
    "| Variável | Descrição |\n",
    "| :---: | :---: |\n",
    "| ID_CLIENTE | Identificador único do cliente |\n",
    "| SAFRA_REF | Mês de referência da amostra |\n",
    "| DATA_EMISSAO_DOCUMENTO | Data da emissão da nota de crédito |\n",
    "| DATA_VENCIMENTO | Data limite para pagamento do empréstimo |\n",
    "| VALOR_A_PAGAR | Valor da nota de crédito |\n",
    "| TAXA | Taxa de juros cobrada no empréstimo |\n",
    "| DATA_PAGAMENTO | Data em que o cliente realizou o pagamento da nota(disponível apenas na base de desenvolvimento) |\n",
    "\n",
    "4. **Variável Resposta:** É a inadimplência do cliente em cada transação. Serão consideradas **inadimplentes** as transações que possuírem uma diferença entre as datas de pagamento e vencimento maior ou igual a **5 dias**."
   ]
  },
  {
   "cell_type": "markdown",
   "id": "5461d16e-1c30-4cac-bf96-8a3483876a5f",
   "metadata": {},
   "source": [
    "## Entregas do projeto"
   ]
  },
  {
   "cell_type": "markdown",
   "id": "a3418423-47a6-4f04-8212-7046eddb3842",
   "metadata": {
    "execution": {
     "iopub.execute_input": "2023-05-12T00:40:53.490299Z",
     "iopub.status.busy": "2023-05-12T00:40:53.490299Z",
     "iopub.status.idle": "2023-05-12T00:40:53.511299Z",
     "shell.execute_reply": "2023-05-12T00:40:53.511299Z",
     "shell.execute_reply.started": "2023-05-12T00:40:53.490299Z"
    }
   },
   "source": [
    "Como resultado deste projeto, serão entregues:\n",
    "1. Uma base contendo as colunas **ID_CLIENTE**, **SAFRA_REF** e **INADIMPLENTE** com base nos dados do arquivo **base_pagamentos_teste.csv**.\n",
    "2. Notebook contendo todo o código desenvolvido para resolução do problema de negócio."
   ]
  }
 ],
 "metadata": {
  "kernelspec": {
   "display_name": "Python 3 (ipykernel)",
   "language": "python",
   "name": "python3"
  },
  "language_info": {
   "codemirror_mode": {
    "name": "ipython",
    "version": 3
   },
   "file_extension": ".py",
   "mimetype": "text/x-python",
   "name": "python",
   "nbconvert_exporter": "python",
   "pygments_lexer": "ipython3",
   "version": "3.9.18"
  }
 },
 "nbformat": 4,
 "nbformat_minor": 5
}
